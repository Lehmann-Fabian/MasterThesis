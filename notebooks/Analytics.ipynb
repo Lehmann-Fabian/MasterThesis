{
 "cells": [
  {
   "cell_type": "markdown",
   "metadata": {},
   "source": [
    "## TODO\n"
   ]
  },
  {
   "cell_type": "markdown",
   "metadata": {},
   "source": [
    "### Imports"
   ]
  },
  {
   "cell_type": "code",
   "execution_count": 1,
   "metadata": {},
   "outputs": [],
   "source": [
    "import pandas\n",
    "import numpy as np\n",
    "from ipywidgets import IntProgress\n",
    "from IPython.display import display\n",
    "np.set_printoptions(suppress=True)\n",
    "import matplotlib.pyplot as plt\n",
    "from matplotlib.pyplot import figure\n",
    "plt.rcParams['figure.figsize'] = [8,5]\n",
    "np.set_printoptions(suppress=True)\n",
    "\n",
    "import os\n",
    "import shutil\n",
    "from matplotlib.ticker import StrMethodFormatter, NullFormatter\n",
    "import dictdiffer\n",
    "\n",
    "from tqdm.notebook import tnrange as nrange\n",
    "from tqdm.notebook import tqdm"
   ]
  },
  {
   "cell_type": "code",
   "execution_count": 2,
   "metadata": {},
   "outputs": [],
   "source": [
    "def set_pandas_display_options() -> None:\n",
    "    \"\"\"Set pandas display options.\"\"\"\n",
    "    # Ref: https://stackoverflow.com/a/52432757/\n",
    "    display = pandas.options.display\n",
    "\n",
    "    display.max_columns = 1000\n",
    "    display.max_rows = 100\n",
    "    display.max_colwidth = 199\n",
    "    display.width = None\n",
    "    display.float_format = '{:.2f}'.format\n",
    "    # display.precision = 2  # set as needed\n",
    "set_pandas_display_options()"
   ]
  },
  {
   "cell_type": "code",
   "execution_count": 3,
   "metadata": {},
   "outputs": [],
   "source": [
    "path = \"E:\\\\Studium\\\\10_Semester\\\\Masterarbeit\\\\Deployment\\\\Kafka\\\\results\\\\setup\"\n",
    "output = \"E:\\\\Studium\\\\10_Semester\\\\Masterarbeit\\\\Deployment\\\\Kafka\\\\eval\\\\\"\n",
    "experiment = 0\n",
    "path = path + str(experiment) + os.path.sep\n",
    "output = output + str(experiment) + os.path.sep"
   ]
  },
  {
   "cell_type": "markdown",
   "metadata": {},
   "source": [
    "## Filter"
   ]
  },
  {
   "cell_type": "code",
   "execution_count": 4,
   "metadata": {},
   "outputs": [],
   "source": [
    "def dropFirstXRows(input, x):\n",
    "    return input.drop(np.arange(0,x))\n",
    "\n",
    "def removeNaN(array, array2):\n",
    "    helper = np.logical_not(np.isnan(array))\n",
    "    return array[helper], array2[helper]"
   ]
  },
  {
   "cell_type": "code",
   "execution_count": 5,
   "metadata": {},
   "outputs": [],
   "source": [
    "def filterLastData(generated, received):\n",
    "    lastOffset = received[\"Kafka.Offset\"].to_numpy()[-1]\n",
    "    return generated[generated[\"Kafka.Offset\"] <= lastOffset]"
   ]
  },
  {
   "cell_type": "code",
   "execution_count": 6,
   "metadata": {},
   "outputs": [],
   "source": [
    "def loadData(path):\n",
    "    \n",
    "    names = []\n",
    "    produced_generated = []\n",
    "    produced_recieved = []\n",
    "    filtered = []\n",
    "    warnings = []\n",
    "    modelchange = []\n",
    "    firstTimestamp = []\n",
    "    \n",
    "    runs = [x for x in os.listdir(path)]\n",
    "    producerByRun = []\n",
    "    for r in runs:\n",
    "        pathHelper = path + r + str(os.path.sep) + \"data\" + str(os.path.sep)\n",
    "        producer = [pathHelper + x + str(os.path.sep) for x in os.listdir(pathHelper)]\n",
    "        producerByRun.append(producer)\n",
    "\n",
    "        for prod in tqdm(producer):\n",
    "            #print(prod)\n",
    "            time = os.listdir(prod)[0]\n",
    "            topic = list(filter(lambda x : len(x) == 6, os.listdir(prod + time + str(os.path.sep))))[0][:-4]\n",
    "            \n",
    "            dataPath = prod  + str(os.path.sep) + time + str(os.path.sep) + topic\n",
    "            \n",
    "            produced_generated_df = pandas.read_csv(dataPath + \"_produced.csv\")\n",
    "            produced_recieved_df = pandas.read_csv(dataPath + \".csv\")\n",
    "\n",
    "            produced_generated_df = filterLastData(produced_generated_df, produced_recieved_df)\n",
    "\n",
    "            filtered_df = pandas.read_csv(dataPath + \"_filtered.csv\")\n",
    "            warnings_df = pandas.read_csv(dataPath + \"_warnings.csv\")\n",
    "            modelchange_df = pandas.read_csv(dataPath + \"_modelchange.csv\")     \n",
    "            \n",
    "            #remove first 60100 elements ( around 5 minutes)\n",
    "            \n",
    "            modelchange_df = modelchange_df[modelchange_df[\"producedElements\"] > 60101]\n",
    "            \n",
    "            producedFilter = produced_generated_df[\"ProducedElements\"] <= 60100 # last point of anomaly\n",
    "                       \n",
    "            offsets = produced_generated_df[producedFilter][\"Kafka.Offset\"].to_numpy()\n",
    "            produced_generated_df = produced_generated_df[np.logical_not(producedFilter)]\n",
    "\n",
    "            producedReceivedFilter = np.isin(produced_recieved_df[\"Kafka.Offset\"].to_numpy(), offsets)\n",
    "            produced_recieved_df = produced_recieved_df[np.logical_not(producedReceivedFilter)]\n",
    "            \n",
    "            filteredFilter = np.isin(filtered_df[\"Data.Offset\"].to_numpy(), offsets)\n",
    "            offsets = filtered_df[\"Kafka.Offset\"][filteredFilter].to_numpy()\n",
    "            filtered_df = filtered_df[np.logical_not(filteredFilter)]\n",
    "            \n",
    "            warningFilter = np.isin(warnings_df[\"Record.BeginOffset\"], offsets)\n",
    "            warnings_df = warnings_df[np.logical_not(warningFilter)]\n",
    "            \n",
    "            firstTimestampValue = produced_generated_df.iloc()[0][3]\n",
    "            \n",
    "            produced_generated.append(produced_generated_df)\n",
    "            produced_recieved.append(produced_recieved_df)\n",
    "            filtered.append(filtered_df)\n",
    "            warnings.append(warnings_df)\n",
    "            modelchange.append(modelchange_df)\n",
    "            firstTimestamp.append(firstTimestampValue)\n",
    "            \n",
    "            names.append(\"run_\" + r + \"_\" + topic)\n",
    "\n",
    "    return names, produced_generated, produced_recieved, filtered, warnings, modelchange, firstTimestamp"
   ]
  },
  {
   "cell_type": "code",
   "execution_count": 7,
   "metadata": {},
   "outputs": [
    {
     "data": {
      "application/vnd.jupyter.widget-view+json": {
       "model_id": "a4f06870b9c349b09b4f2015f209e9bb",
       "version_major": 2,
       "version_minor": 0
      },
      "text/plain": [
       "HBox(children=(FloatProgress(value=0.0, max=7.0), HTML(value='')))"
      ]
     },
     "metadata": {},
     "output_type": "display_data"
    },
    {
     "name": "stdout",
     "output_type": "stream",
     "text": [
      "\n"
     ]
    },
    {
     "data": {
      "application/vnd.jupyter.widget-view+json": {
       "model_id": "3d2ba93b697f4818bf91e4f9033595c0",
       "version_major": 2,
       "version_minor": 0
      },
      "text/plain": [
       "HBox(children=(FloatProgress(value=0.0, max=7.0), HTML(value='')))"
      ]
     },
     "metadata": {},
     "output_type": "display_data"
    },
    {
     "name": "stdout",
     "output_type": "stream",
     "text": [
      "\n"
     ]
    },
    {
     "data": {
      "application/vnd.jupyter.widget-view+json": {
       "model_id": "1e66b59abe3741d1827f4bea4001e050",
       "version_major": 2,
       "version_minor": 0
      },
      "text/plain": [
       "HBox(children=(FloatProgress(value=0.0, max=7.0), HTML(value='')))"
      ]
     },
     "metadata": {},
     "output_type": "display_data"
    },
    {
     "name": "stdout",
     "output_type": "stream",
     "text": [
      "\n"
     ]
    }
   ],
   "source": [
    "#load data\n",
    "\n",
    "names, produced_generated, produced_recieved, filtered, warnings, modelchange, firstTimestamp = loadData(path)"
   ]
  },
  {
   "cell_type": "markdown",
   "metadata": {},
   "source": [
    "### Helper"
   ]
  },
  {
   "cell_type": "code",
   "execution_count": 64,
   "metadata": {},
   "outputs": [],
   "source": [
    "def plotDistribution(data, timestamps = None, path = None, firstTimestamp = None):\n",
    "    \n",
    "    if timestamps is not None:\n",
    "        plt.plot((timestamps - firstTimestamp) / 60000, data)\n",
    "        plt.xlabel(\"time in min\")\n",
    "        plt.ylabel(\"duration in ms\")\n",
    "        plt.savefig(path + \"_over_time.pdf\")\n",
    "        plt.savefig(path + \"_over_time.jpg\", dpi = 300)\n",
    "        plt.close()\n",
    "    \n",
    "    \n",
    "    \n",
    "    fig, ax = plt.subplots()\n",
    "    sorted = np.sort(data)\n",
    "    plt.xscale(\"log\")\n",
    "\n",
    "    plt.plot(sorted,np.linspace(0, 1,len(sorted),endpoint=True))\n",
    "    plt.xlabel(\"duration in ms\")\n",
    "    plt.ylabel(\"cumulative frequency\")\n",
    "    \n",
    "    \n",
    "    ax.xaxis.set_major_formatter(StrMethodFormatter('{x:.0f}'))\n",
    "    ax.xaxis.set_minor_formatter(NullFormatter())\n",
    "\n",
    "    if(path is not None):\n",
    "        plt.savefig(path + \"_dist.pdf\")\n",
    "        plt.savefig(path + \"_dist.jpg\", dpi = 300)\n",
    "        plt.close()"
   ]
  },
  {
   "cell_type": "code",
   "execution_count": 66,
   "metadata": {},
   "outputs": [],
   "source": [
    "def extractAvgMedStdMinMaxFromArray(diff, timestamps, path, name, firstTimestamp):\n",
    "    plotDistribution(diff, timestamps, path + name, firstTimestamp)\n",
    "    avg, med, std, minimum, maximum, per90, per95, per99, per99 = (np.average(diff), np.median(diff), np.std(diff), np.min(diff), np.max(diff), np.percentile(diff, 90), np.percentile(diff, 95), np.percentile(diff, 99), np.percentile(diff, 99.9))\n",
    "    datas = [str(x) for x in [name,avg, med, std, minimum, maximum, per90, per95, per99, per99]]\n",
    "    file_object = open(path + 'values.csv', 'a')\n",
    "    file_object.write(\";\".join(datas) + '\\n')\n",
    "    file_object.close()\n",
    "    #return \"avg = %.2f ms; median %.2f ms; std %.2f ms; min %d ms; max %d ms; 90%% %.2f ms; 95%% %.2f ms; 99%% %.2f ms; 99.9%% %.2f ms\"\\\n",
    "    #    %(**datas)\n",
    "    \n",
    "def extractAvgMedStdMinMaxFromListOfArray(inputList,path,unit = \"ms\"):\n",
    "    diff = np.concatenate(inputList, axis = 0)\n",
    "    plotDistribution(diff, path = path)\n",
    "    datas = (np.average(diff), np.median(diff), np.std(diff), np.min(diff), np.max(diff), np.percentile(diff, 90), np.percentile(diff, 95), np.percentile(diff, 99), np.percentile(diff, 99.9))\n",
    "    text = \"avg = %.2f \" + unit + \"; median %.2f \" + unit + \"; std %.2f \" + unit + \"; min %d \" + unit + \"; max %d \" + unit + \"; 90%% %.2f \" + unit + \"; 95%% %.2f \" + unit + \"; 99%% %.2f \" + unit + \"; 99.9%% %.2f \" + unit\n",
    "    print(text %(datas))\n",
    "    return diff"
   ]
  },
  {
   "cell_type": "code",
   "execution_count": 10,
   "metadata": {},
   "outputs": [],
   "source": [
    "def prepareDictory(path):\n",
    "    shutil.rmtree(path,ignore_errors=True)\n",
    "    os.makedirs(path, exist_ok=True)\n",
    "    file_object = open(path + 'values.csv', 'w')\n",
    "    file_object.write(\";\".join([\"name\", \"avg\", \"med\", \"std\", \"minimum\", \"maximum\", \"per90\", \"per95\", \"per99\", \"per99\"]) + '\\n')\n",
    "    file_object.close()"
   ]
  },
  {
   "cell_type": "markdown",
   "metadata": {},
   "source": [
    "### Histogram of generated data over time\n",
    "\n",
    "consumer & produducer timestamp of the produced data\n",
    "\n",
    "data isn't produced every 5ms instead there are peaks and lows, just the avg is 5ms"
   ]
  },
  {
   "cell_type": "code",
   "execution_count": 39,
   "metadata": {},
   "outputs": [
    {
     "data": {
      "application/vnd.jupyter.widget-view+json": {
       "model_id": "ba7219b789b64f4fbb07ad60b56c5b1f",
       "version_major": 2,
       "version_minor": 0
      },
      "text/plain": [
       "HBox(children=(FloatProgress(value=0.0, max=21.0), HTML(value='')))"
      ]
     },
     "metadata": {},
     "output_type": "display_data"
    },
    {
     "name": "stderr",
     "output_type": "stream",
     "text": [
      "<ipython-input-39-557cceb29125>:21: UserWarning: Creating legend with loc=\"best\" can be slow with large amounts of data.\n",
      "  plt.savefig(p + \".pdf\")\n",
      "<ipython-input-39-557cceb29125>:21: UserWarning: Creating legend with loc=\"best\" can be slow with large amounts of data.\n",
      "  plt.savefig(p + \".pdf\")\n",
      "<ipython-input-39-557cceb29125>:22: UserWarning: Creating legend with loc=\"best\" can be slow with large amounts of data.\n",
      "  plt.savefig(p + \".jpg\", dpi = 300)\n"
     ]
    },
    {
     "name": "stdout",
     "output_type": "stream",
     "text": [
      "run_0_t1\n",
      "run_0_t4\n",
      "run_0_t6\n"
     ]
    },
    {
     "name": "stderr",
     "output_type": "stream",
     "text": [
      "<ipython-input-39-557cceb29125>:21: UserWarning: Creating legend with loc=\"best\" can be slow with large amounts of data.\n",
      "  plt.savefig(p + \".pdf\")\n"
     ]
    },
    {
     "name": "stdout",
     "output_type": "stream",
     "text": [
      "run_0_t5\n",
      "run_0_t3\n",
      "run_0_t2\n",
      "run_0_t7\n",
      "run_1_t6\n",
      "run_1_t1\n",
      "run_1_t3\n",
      "run_1_t7\n",
      "run_1_t2\n"
     ]
    },
    {
     "name": "stderr",
     "output_type": "stream",
     "text": [
      "<ipython-input-39-557cceb29125>:21: UserWarning: Creating legend with loc=\"best\" can be slow with large amounts of data.\n",
      "  plt.savefig(p + \".pdf\")\n"
     ]
    },
    {
     "name": "stdout",
     "output_type": "stream",
     "text": [
      "run_1_t5\n",
      "run_1_t4\n",
      "run_2_t4\n",
      "run_2_t7\n",
      "run_2_t6\n"
     ]
    },
    {
     "name": "stderr",
     "output_type": "stream",
     "text": [
      "<ipython-input-39-557cceb29125>:21: UserWarning: Creating legend with loc=\"best\" can be slow with large amounts of data.\n",
      "  plt.savefig(p + \".pdf\")\n"
     ]
    },
    {
     "name": "stdout",
     "output_type": "stream",
     "text": [
      "run_2_t5\n",
      "run_2_t1\n"
     ]
    },
    {
     "name": "stderr",
     "output_type": "stream",
     "text": [
      "<ipython-input-39-557cceb29125>:21: UserWarning: Creating legend with loc=\"best\" can be slow with large amounts of data.\n",
      "  plt.savefig(p + \".pdf\")\n"
     ]
    },
    {
     "name": "stdout",
     "output_type": "stream",
     "text": [
      "run_2_t2\n",
      "run_2_t3\n",
      "\n"
     ]
    }
   ],
   "source": [
    "def plotHist(data, label, firstTimestamp, width = 250, slabel = False):\n",
    "    timespan = data[-1] - data[0]\n",
    "    \n",
    "    plt.hist((data - firstTimestamp) / 1000, bins = int(timespan / width),zorder=2, label = label)\n",
    "    plt.hlines(width / 5, 0, (data[-1] - firstTimestamp) / 1000, color = \"red\", zorder=1, label = \"expected amount of points\" if slabel else None)\n",
    "    #plt.title(\"Gaussian Histogram\")\n",
    "    plt.xlabel(\"runtime of the experiment in s\")\n",
    "    plt.ylabel(\"data points in an 250 ms intervall\")\n",
    "    plt.legend()\n",
    "\n",
    "for x in nrange(len(names)):\n",
    "    try:\n",
    "        producedTime = produced_generated[x].to_numpy()[:,3]\n",
    "        #print(\"Produced data distribution\")\n",
    "        plotHist(producedTime, \"produced data points\", firstTimestamp[x], slabel = True) \n",
    "        #print(\"Recieved produced data distribution\")\n",
    "        plotHist(produced_recieved[x].to_numpy()[:,0], \"recieved data points\", firstTimestamp[x])\n",
    "        p = output + \"produced_hist\" + os.path.sep\n",
    "        os.makedirs(p, exist_ok=True)\n",
    "        p += names[x]\n",
    "        plt.savefig(p + \".pdf\")\n",
    "        plt.savefig(p + \".jpg\", dpi = 300)\n",
    "        plt.close()\n",
    "        print(names[x])\n",
    "    except Exception as e:\n",
    "        plt.close()\n",
    "        print(e)\n",
    "        print(\"Error\", names[x], x)\n",
    "        \n",
    "\n"
   ]
  },
  {
   "cell_type": "code",
   "execution_count": 12,
   "metadata": {},
   "outputs": [
    {
     "name": "stdout",
     "output_type": "stream",
     "text": [
      "How often aggregates Kafka data for produced_recieved\n",
      "Modus: 2 with 19.13%\n",
      "One element with 15.11%\n",
      "avg = 8.95 r/s; median 3.00 r/s; std 14.95 r/s; min 1 r/s; max 295 r/s; 90% 39.00 r/s; 95% 46.00 r/s; 99% 56.00 r/s; 99.9% 95.00 r/s\n"
     ]
    }
   ],
   "source": [
    "def kafkaAggCount(dataList, index, label, path):\n",
    "    print(\"How often aggregates Kafka data for\", label)\n",
    "    counts = []\n",
    "    for x in range(len(names)):\n",
    "       counts.append(np.unique(produced_recieved[x].to_numpy()[:,index], return_counts = True)[1])\n",
    "    a,b = np.unique(np.concatenate(counts, axis = 0), return_counts=True)\n",
    "    countsSum = np.sum(b)\n",
    "    np.max(b)\n",
    "    print(\"Modus: %d with %.2f%%\" %(a[np.where(b == np.max(b))][0], (np.max(b) / countsSum) * 100))\n",
    "    print(\"One element with %.2f%%\" %((b[np.where(a == 1)][0] / countsSum) * 100))\n",
    "    extractAvgMedStdMinMaxFromListOfArray(counts, path, \"r/s\")\n",
    "\n",
    "kafkaAggCount(produced_recieved, 0, \"produced_recieved\", output + \"produced_records_sub\")"
   ]
  },
  {
   "cell_type": "markdown",
   "metadata": {},
   "source": [
    "### Information on the time difference between the arival time of records for all 3 topics\n",
    "\n",
    "peaks caused by cpu time, it is not regulary produced"
   ]
  },
  {
   "cell_type": "code",
   "execution_count": 13,
   "metadata": {},
   "outputs": [
    {
     "data": {
      "application/vnd.jupyter.widget-view+json": {
       "model_id": "33350fd107964c5dac5d2aa90143e090",
       "version_major": 2,
       "version_minor": 0
      },
      "text/plain": [
       "HBox(children=(FloatProgress(value=0.0, max=21.0), HTML(value='')))"
      ]
     },
     "metadata": {},
     "output_type": "display_data"
    },
    {
     "name": "stdout",
     "output_type": "stream",
     "text": [
      "\n",
      "Arival diff of generated data\n",
      "avg = 5.00 ms; median 5.00 ms; std 3.38 ms; min 0 ms; max 657 ms; 90% 6.00 ms; 95% 7.00 ms; 99% 11.00 ms; 99.9% 23.00 ms\n",
      "Percentage of 5ms 57.07\n",
      "Percentage of 0ms 2.64\n",
      "Percentage of <=10ms 98.93\n",
      "Percentage of >100ms 0.01\n",
      "\n",
      "Arival diff of generated data from Kafka\n",
      "avg = 5.00 ms; median 0.00 ms; std 28.18 ms; min 0 ms; max 1488 ms; 90% 8.00 ms; 95% 19.00 ms; 99% 206.00 ms; 99.9% 266.00 ms\n",
      "Arival diff of filtered data from Kafka\n",
      "avg = 5.00 ms; median 0.00 ms; std 33.83 ms; min 0 ms; max 1831 ms; 90% 0.00 ms; 95% 12.00 ms; 99% 221.00 ms; 99.9% 433.00 ms\n",
      "Arival diff of warning data from Kafka\n",
      "avg = 26.76 ms; median 0.00 ms; std 73.12 ms; min 0 ms; max 1456 ms; 90% 54.00 ms; 95% 224.00 ms; 99% 350.00 ms; 99.9% 606.50 ms\n"
     ]
    },
    {
     "data": {
      "text/plain": [
       "array([24, 25,  0, ...,  0,  0,  0], dtype=int64)"
      ]
     },
     "execution_count": 13,
     "metadata": {},
     "output_type": "execute_result"
    }
   ],
   "source": [
    "def avgMedStdArivalTime(df, column, path, name, firstTimestamp, filterArray = None):\n",
    "    df = df.to_numpy()[:,column].astype(np.int64)\n",
    "    diff = df[1:,]-df[:-1,]\n",
    "    timestamps = df[1:,]\n",
    "    if filterArray is not None:\n",
    "        diff = diff[filterArray]\n",
    "        timestamps = timestamps[filterArray]\n",
    "    extractAvgMedStdMinMaxFromArray(diff, timestamps, path, name, firstTimestamp)\n",
    "    return diff\n",
    "    \n",
    "\n",
    "currentPath = output + \"arivalTimesOfData\" + os.path.sep\n",
    "shutil.rmtree(currentPath,ignore_errors=True)\n",
    "pathesWithoutSep = [currentPath + \"produced_generated\", currentPath + \"produced_received\", currentPath + \"filtered\", currentPath + \"warnings\"] \n",
    "pathes = [x + os.path.sep for x in pathesWithoutSep]\n",
    "for x in pathes:\n",
    "    prepareDictory(x)\n",
    "    \n",
    "pro_gen = []\n",
    "pro_rec = []\n",
    "fil = []\n",
    "war = []\n",
    "    \n",
    "for x in nrange(len(names)):\n",
    "    try:\n",
    "        pro_gen.append(avgMedStdArivalTime(produced_generated[x], 3,pathes[0] + os.path.sep, names[x], firstTimestamp[x]))\n",
    "        pro_rec.append(avgMedStdArivalTime(produced_recieved[x], 0, pathes[1] + os.path.sep, names[x], firstTimestamp[x]))\n",
    "        fil.append(avgMedStdArivalTime(filtered[x], 0, pathes[2] + os.path.sep, names[x], firstTimestamp[x]))\n",
    "        warningFilter = np.logical_not(np.isin(warnings[x][\"Record.BeginOffset\"].to_numpy(), modelchange[x][\"producedElements\"].to_numpy())[1:])\n",
    "        war.append(avgMedStdArivalTime(warnings[x], 0, pathes[3] + os.path.sep, names[x], firstTimestamp[x], warningFilter))\n",
    "    except Exception as e:\n",
    "        plt.close()\n",
    "        print(e)\n",
    "        print(\"Error\", names[x], x)\n",
    "\n",
    "print(\"Arival diff of generated data\")\n",
    "diff = extractAvgMedStdMinMaxFromListOfArray(pro_gen, pathesWithoutSep[0])\n",
    "print(\"Percentage of 5ms %.2f\" %((np.sum(diff == 5)/len(diff) * 100)))\n",
    "print(\"Percentage of 0ms %.2f\" %((np.sum(diff == 0)/len(diff) * 100)))\n",
    "print(\"Percentage of <=10ms %.2f\" %((np.sum(diff <= 10)/len(diff) * 100)))\n",
    "print(\"Percentage of >100ms %.2f\" %((np.sum(diff > 100)/len(diff) * 100)))\n",
    "print()\n",
    "print(\"Arival diff of generated data from Kafka\")\n",
    "extractAvgMedStdMinMaxFromListOfArray(pro_rec, pathesWithoutSep[1])\n",
    "print(\"Arival diff of filtered data from Kafka\")\n",
    "extractAvgMedStdMinMaxFromListOfArray(fil, pathesWithoutSep[2])\n",
    "print(\"Arival diff of warning data from Kafka\")\n",
    "_ = extractAvgMedStdMinMaxFromListOfArray(war, pathesWithoutSep[3])"
   ]
  },
  {
   "cell_type": "code",
   "execution_count": 14,
   "metadata": {},
   "outputs": [
    {
     "name": "stdout",
     "output_type": "stream",
     "text": [
      "Percentage of 5ms 57.07\n",
      "Percentage of 0ms 2.64\n",
      "Percentage of <=10ms 98.93\n",
      "Percentage of >100ms 0.01\n"
     ]
    }
   ],
   "source": [
    "print(\"Percentage of 5ms %.2f\" %((np.sum(diff == 5)/len(diff) * 100)))\n",
    "print(\"Percentage of 0ms %.2f\" %((np.sum(diff == 0)/len(diff) * 100)))\n",
    "print(\"Percentage of <=10ms %.2f\" %((np.sum(diff <= 10)/len(diff) * 100)))\n",
    "print(\"Percentage of >100ms %.2f\" %((np.sum(diff > 100)/len(diff) * 100)))"
   ]
  },
  {
   "cell_type": "markdown",
   "metadata": {},
   "source": [
    "## Check Produced"
   ]
  },
  {
   "cell_type": "markdown",
   "metadata": {},
   "source": [
    "### How long does it take until a produced record is acknowledged by kafka"
   ]
  },
  {
   "cell_type": "code",
   "execution_count": 15,
   "metadata": {},
   "outputs": [
    {
     "data": {
      "application/vnd.jupyter.widget-view+json": {
       "model_id": "58802d981bc5457aa94ea771479800c8",
       "version_major": 2,
       "version_minor": 0
      },
      "text/plain": [
       "HBox(children=(FloatProgress(value=0.0, max=21.0), HTML(value='')))"
      ]
     },
     "metadata": {},
     "output_type": "display_data"
    },
    {
     "name": "stdout",
     "output_type": "stream",
     "text": [
      "\n",
      "Produced acknowledged by Kafka\n",
      "avg = 166.59 ms; median 151.00 ms; std 119.19 ms; min 1 ms; max 1693 ms; 90% 295.00 ms; 95% 396.00 ms; 99% 515.00 ms; 99.9% 845.00 ms\n"
     ]
    },
    {
     "data": {
      "text/plain": [
       "array([ 99,  93,  87, ..., 236, 231, 349], dtype=int64)"
      ]
     },
     "execution_count": 15,
     "metadata": {},
     "output_type": "execute_result"
    }
   ],
   "source": [
    "def kafkaAck(df, path, name, firstTimestamp):\n",
    "    ack = df.to_numpy()[:,0].astype(np.int64)\n",
    "    send = df.to_numpy()[:,3].astype(np.int64)\n",
    "    diff = ack - send\n",
    "    extractAvgMedStdMinMaxFromArray(diff, send, path, name, firstTimestamp)\n",
    "    return diff\n",
    "\n",
    "\n",
    "currentPath = output + \"producedAckByKafka\"\n",
    "prepareDictory(currentPath + os.path.sep)\n",
    "\n",
    "kaf = []\n",
    "\n",
    "for x in nrange(len(names)):\n",
    "    try:\n",
    "        kaf.append(kafkaAck(produced_recieved[x], currentPath + os.path.sep, names[x], firstTimestamp[x]))\n",
    "    except Exception as e:\n",
    "        plt.close()\n",
    "        print(e)\n",
    "        print(\"Error\", names[x], x)\n",
    "\n",
    "print(\"Produced acknowledged by Kafka\")\n",
    "_ = extractAvgMedStdMinMaxFromListOfArray(kaf, currentPath)"
   ]
  },
  {
   "cell_type": "markdown",
   "metadata": {},
   "source": [
    "### check validity of produced data"
   ]
  },
  {
   "cell_type": "code",
   "execution_count": 16,
   "metadata": {},
   "outputs": [
    {
     "data": {
      "application/vnd.jupyter.widget-view+json": {
       "model_id": "bc61cd6d095449f0a7d6fa641cea07fe",
       "version_major": 2,
       "version_minor": 0
      },
      "text/plain": [
       "HBox(children=(FloatProgress(value=0.0, max=21.0), HTML(value='')))"
      ]
     },
     "metadata": {},
     "output_type": "display_data"
    },
    {
     "name": "stdout",
     "output_type": "stream",
     "text": [
      "\n"
     ]
    }
   ],
   "source": [
    "def validate(df, heigherFields, heigherOrEqualFields, offset):\n",
    "    df = df.to_numpy()#[:,0:4]\n",
    "    \n",
    "    lastRow = df[0]\n",
    "    error = False\n",
    "    \n",
    "    for x in df[1:]:\n",
    "            \n",
    "        if(np.sum(x[heigherFields] > lastRow[heigherFields]) != len(heigherFields) or \n",
    "           np.sum(x[heigherOrEqualFields] >= lastRow[heigherOrEqualFields]) != len(heigherOrEqualFields)):\n",
    "            error = True\n",
    "            print(\"Error:\")\n",
    "            print(lastRow)\n",
    "            print(x)\n",
    "        if(not np.sum(lastRow[offset] + 1 == x[offset]) == len(offset)):\n",
    "            print(\"Offset %i increased not by 1\" %lastRow[2])\n",
    "            \n",
    "        lastRow = x\n",
    "    return not error\n",
    "        \n",
    "    #f.value = 100\n",
    "\n",
    "for x in nrange(len(names)):\n",
    "    if not validate(produced_recieved[x],[2],[0,1,3],[2]):\n",
    "        print(\"Not valid produced\", names[x])\n",
    "    if not validate(filtered[x],[2,3],[0,1,4],[2,3]):\n",
    "        print(\"Not valid filtered\", names[x])\n",
    "    if not validate(warnings[x],[2,4,5],[0,1,6,7],[2]):\n",
    "        print(\"Not valid warnings\", names[x])"
   ]
  },
  {
   "cell_type": "markdown",
   "metadata": {},
   "source": [
    "### Time between the last step and the next"
   ]
  },
  {
   "cell_type": "code",
   "execution_count": 33,
   "metadata": {},
   "outputs": [
    {
     "data": {
      "application/vnd.jupyter.widget-view+json": {
       "model_id": "9c12a35ae1934ef683c555bf04cb371f",
       "version_major": 2,
       "version_minor": 0
      },
      "text/plain": [
       "HBox(children=(FloatProgress(value=0.0, max=21.0), HTML(value='')))"
      ]
     },
     "metadata": {},
     "output_type": "display_data"
    },
    {
     "name": "stdout",
     "output_type": "stream",
     "text": [
      "\n",
      "Produced -> Produced Received\n",
      "avg = 166.55 ms; median 151.00 ms; std 119.19 ms; min 1 ms; max 1693 ms; 90% 295.00 ms; 95% 396.00 ms; 99% 515.00 ms; 99.9% 845.00 ms\n",
      "More than 100 ms: 112255.90%\n",
      "Produced -> Filtered\n",
      "avg = 178.22 ms; median 155.00 ms; std 161.56 ms; min -1279 ms; max 2277 ms; 90% 365.00 ms; 95% 468.00 ms; 99% 670.00 ms; 99.9% 1171.00 ms\n"
     ]
    },
    {
     "data": {
      "text/plain": [
       "array([254, 254, 254, ..., 161, 161, 161], dtype=int64)"
      ]
     },
     "execution_count": 33,
     "metadata": {},
     "output_type": "execute_result"
    }
   ],
   "source": [
    "def extractDiffBetweenTwoTables(a,b,keyA,keyB, sortBy, valueA, valueB):\n",
    "    joined = a.set_index(keyA).add_prefix('a_').join(b.set_index(keyB).add_prefix('b_'))#.sort_values(\"b_\" + sortBy, ascending = True)\n",
    "\n",
    "    diff = joined['a_' + valueA].to_numpy() - joined['b_' + valueB].to_numpy()\n",
    "    return diff, joined['b_' + valueB].to_numpy(), joined\n",
    "\n",
    "currentPathPF = output + \"receivedByFollowingTopic\" + os.path.sep + \"ProducedFiltered\"\n",
    "prepareDictory(currentPathPF + os.path.sep)\n",
    "currentPathPPR = output + \"receivedByFollowingTopic\" + os.path.sep + \"ProducedProdRec\"\n",
    "prepareDictory(currentPathPPR + os.path.sep)\n",
    "\n",
    "diffListPF = []\n",
    "diffListPPR = []\n",
    "\n",
    "for x in nrange(len(names)):\n",
    "    try:\n",
    "        diffPF, timestamps, _ = extractDiffBetweenTwoTables(filtered[x], produced_recieved[x], 'Data.Offset', 'Kafka.Offset', \"Consumer.Time\", 'Consumer.Time', 'Consumer.Time')\n",
    "        extractAvgMedStdMinMaxFromArray(diffPF, timestamps, currentPathPF + os.path.sep, names[x], firstTimestamp[x])\n",
    "        diffListPF.append(diffPF)\n",
    "        \n",
    "        diffPPR, timestamps, _ = extractDiffBetweenTwoTables(produced_recieved[x], produced_generated[x], 'Kafka.Offset', 'Kafka.Offset', \"Kafka.Offset\", 'Consumer.Time', 'Producer.Timestamp')\n",
    "        extractAvgMedStdMinMaxFromArray(diffPPR, timestamps, currentPathPPR + os.path.sep, names[x], firstTimestamp[x])\n",
    "        diffListPPR.append(diffPPR)\n",
    "    except Exception as e:\n",
    "        plt.close()\n",
    "        print(e)\n",
    "        print(\"Error\", names[x], x)\n",
    "\n",
    "        \n",
    "print(\"Produced -> Produced Received\")\n",
    "extractAvgMedStdMinMaxFromListOfArray(diffListPPR, currentPathPPR)\n",
    "diffPPR = np.concatenate(diffListPPR, axis = 0)\n",
    "print(\"More than 100 ms: %.2f%%\"%((np.sum(diffPPR > 100) / len(diffPPR)) * 100))\n",
    "print(\"More lower than 8 ms: %.2f%%\"%((np.sum(diffPPR < 8) / len(diffPPR)) * 100))\n",
    "\n",
    "print(\"Produced -> Filtered\")\n",
    "_ = extractAvgMedStdMinMaxFromListOfArray(diffListPF, currentPathPF)"
   ]
  },
  {
   "cell_type": "code",
   "execution_count": 80,
   "metadata": {},
   "outputs": [
    {
     "data": {
      "image/png": "[encoded data removed]",
      "text/plain": [
       "<Figure size 576x360 with 1 Axes>"
      ]
     },
     "metadata": {
      "needs_background": "light"
     },
     "output_type": "display_data"
    }
   ],
   "source": [
    "#print two together\n",
    "def printTwoTogether(combineIds, namesForIds):\n",
    "\n",
    "    indexes = [names.index(x) for x in combineIds]\n",
    "\n",
    "    fig, ax = plt.subplots()\n",
    "\n",
    "    plt.xscale(\"log\")\n",
    "\n",
    "    for x in range(len(indexes)):\n",
    "        diffPPR, timestamps, _ = extractDiffBetweenTwoTables(produced_recieved[indexes[x]], produced_generated[indexes[x]], 'Kafka.Offset', 'Kafka.Offset', \"Kafka.Offset\", 'Consumer.Time', 'Producer.Timestamp')\n",
    "        #extractAvgMedStdMinMaxFromArray(diffPPR, None, None, None, None)\n",
    "        sorted = np.sort(diffPPR)\n",
    "        plt.plot(sorted,np.linspace(0, 1,len(sorted),endpoint=True), label = namesForIds[x])\n",
    "\n",
    "\n",
    "\n",
    "\n",
    "    plt.xlabel(\"duration in ms\")\n",
    "    plt.ylabel(\"cumulative frequency\")\n",
    "    plt.legend()\n",
    "\n",
    "    ax.xaxis.set_major_formatter(StrMethodFormatter('{x:.0f}'))\n",
    "    ax.xaxis.set_minor_formatter(NullFormatter())\n",
    "\n",
    "    cOutput = output + \"receivedByFollowingTopic\" + os.path.sep + \"ProducedProdRec_\" + \"-\".join(combineIds)\n",
    "    plt.savefig(cOutput + \".jpg\", dpi = 300)\n",
    "    plt.savefig(cOutput + \".pdf\")\n",
    "    plt.show()\n",
    "\n",
    "printTwoTogether([\"run_2_t1\", \"run_2_t7\"], [\"t1\", \"t7\"])"
   ]
  },
  {
   "cell_type": "markdown",
   "metadata": {},
   "source": [
    "Negative values are possible, a node can receive the warnings before the filtered, it depends on the position in cluster an other aspects"
   ]
  },
  {
   "cell_type": "code",
   "execution_count": 88,
   "metadata": {},
   "outputs": [
    {
     "data": {
      "application/vnd.jupyter.widget-view+json": {
       "model_id": "755fa485467347b58cdc82aedb459250",
       "version_major": 2,
       "version_minor": 0
      },
      "text/plain": [
       "HBox(children=(FloatProgress(value=0.0, max=21.0), HTML(value='')))"
      ]
     },
     "metadata": {},
     "output_type": "display_data"
    },
    {
     "name": "stdout",
     "output_type": "stream",
     "text": [
      "\n",
      "Filtered -> Warning\n",
      "avg = 1277.20 ms; median 1142.00 ms; std 901.50 ms; min -427 ms; max 8853 ms; 90% 2479.00 ms; 95% 2941.00 ms; 99% 3878.00 ms; 99.9% 5616.51 ms\n",
      "ProducedRec -> Warning\n",
      "avg = 1458.33 ms; median 1325.00 ms; std 909.28 ms; min -244 ms; max 9154 ms; 90% 2666.00 ms; 95% 3126.00 ms; 99% 4117.64 ms; 99.9% 5973.06 ms\n",
      "ProducedGen -> Warning\n",
      "avg = 1626.11 ms; median 1501.00 ms; std 906.62 ms; min 52 ms; max 9164 ms; 90% 2816.00 ms; 95% 3275.00 ms; 99% 4269.66 ms; 99.9% 6088.53 ms\n"
     ]
    }
   ],
   "source": [
    "currentPathFW = output + \"receivedByFollowingTopic\" + os.path.sep + \"FilteredRecWarning\"\n",
    "prepareDictory(currentPathFW + os.path.sep)\n",
    "\n",
    "currentPathPW = output + \"receivedByFollowingTopic\" + os.path.sep + \"ProducedRecWarning\"\n",
    "prepareDictory(currentPathPW + os.path.sep)\n",
    "\n",
    "currentPathPGW = output + \"receivedByFollowingTopic\" + os.path.sep + \"ProducedGenWarning\"\n",
    "prepareDictory(currentPathPGW + os.path.sep)\n",
    "\n",
    "fw = []\n",
    "pw = []\n",
    "pgw = []\n",
    "\n",
    "for x in nrange(len(names)):\n",
    "    try:\n",
    "        \n",
    "        #In warnings Record.BeginOffset and Record.EndOffset are the related filtered offsets! There is no guarantee that these values are the same!!\n",
    "        warnings_filtered_joined = warnings[x].set_index(\"Record.BeginOffset\").join(filtered[x].add_prefix('fb_').set_index(\"fb_Kafka.Offset\")).set_index(\"Record.EndOffset\").join(filtered[x].add_prefix('fe_').set_index(\"fe_Kafka.Offset\"))\n",
    "\n",
    "        diff = (warnings_filtered_joined[\"Consumer.Time\"] - warnings_filtered_joined[\"fb_Consumer.Time\"]).to_numpy()\n",
    "        diff, timestamps = removeNaN(diff, warnings_filtered_joined[\"fb_Consumer.Time\"].to_numpy())\n",
    "        extractAvgMedStdMinMaxFromArray(diff, timestamps, currentPathFW + os.path.sep, names[x], firstTimestamp[x])\n",
    "        fw.append(diff)\n",
    "\n",
    "        diff, timestamps, prod_warning_join = extractDiffBetweenTwoTables(warnings_filtered_joined, produced_recieved[x].add_prefix('pr_'), 'fb_Data.Offset', 'pr_Kafka.Offset', \"pr_Consumer.Time\", 'Consumer.Time', 'pr_Consumer.Time')\n",
    "        diff, timestamps = removeNaN(diff, timestamps)\n",
    "        extractAvgMedStdMinMaxFromArray(diff, timestamps, currentPathPW + os.path.sep, names[x], firstTimestamp[x])\n",
    "        pw.append(diff)\n",
    "        \n",
    "        prodGenProdRec = produced_generated[x].set_index(\"Kafka.Offset\").join(produced_recieved[x].set_index(\"Kafka.Offset\")).reset_index()\n",
    "        diff, timestamps, prod_warning_join = extractDiffBetweenTwoTables(warnings_filtered_joined, prodGenProdRec.add_prefix('pr_'), 'fb_Data.Offset', 'pr_Kafka.Offset', \"pr_Consumer.Time\", 'Consumer.Time', 'pr_Producer.Timestamp')\n",
    "        diff, timestamps = removeNaN(diff, timestamps)\n",
    "        extractAvgMedStdMinMaxFromArray(diff, timestamps, currentPathPW + os.path.sep, names[x], firstTimestamp[x])\n",
    "        pgw.append(diff)\n",
    "        \n",
    "    except Exception as e:\n",
    "        plt.close()\n",
    "        print(e)\n",
    "        print(\"Error\", names[x], x)\n",
    "\n",
    "print(\"Filtered -> Warning\")\n",
    "extractAvgMedStdMinMaxFromListOfArray(fw, currentPathFW)\n",
    "print(\"ProducedRec -> Warning\")\n",
    "_ = extractAvgMedStdMinMaxFromListOfArray(pw, currentPathPW)\n",
    "print(\"ProducedGen -> Warning\")\n",
    "_ = extractAvgMedStdMinMaxFromListOfArray(pgw, currentPathPGW)"
   ]
  },
  {
   "cell_type": "code",
   "execution_count": 90,
   "metadata": {},
   "outputs": [
    {
     "name": "stdout",
     "output_type": "stream",
     "text": [
      "More than 3000 ms: 7.75%\n",
      "More than 5000 ms: 0.32%\n"
     ]
    }
   ],
   "source": [
    "diff = np.concatenate(pgw, axis = 0)\n",
    "print(\"More than 3000 ms: %.2f%%\"%((np.sum(diff > 3000) / len(diff)) * 100))\n",
    "print(\"More than 5000 ms: %.2f%%\"%((np.sum(diff > 5000) / len(diff)) * 100))"
   ]
  },
  {
   "cell_type": "markdown",
   "metadata": {},
   "source": [
    "## Data loss produced to filter"
   ]
  },
  {
   "cell_type": "code",
   "execution_count": 19,
   "metadata": {},
   "outputs": [
    {
     "data": {
      "application/vnd.jupyter.widget-view+json": {
       "model_id": "3fd06c04ebcc43f188d100508045936b",
       "version_major": 2,
       "version_minor": 0
      },
      "text/plain": [
       "HBox(children=(FloatProgress(value=0.0, max=21.0), HTML(value='')))"
      ]
     },
     "metadata": {},
     "output_type": "display_data"
    },
    {
     "name": "stdout",
     "output_type": "stream",
     "text": [
      "\n"
     ]
    }
   ],
   "source": [
    "def calcDataLoss(df1, df1OffsetColumn, df2, df2OffsetColumn):\n",
    "    df1Offsets = df1.to_numpy()[:,df1OffsetColumn].astype(np.int64)\n",
    "    df2Offsets = df2.to_numpy()[:,df2OffsetColumn].astype(np.int64)\n",
    "    \n",
    "    errors = {}\n",
    "        \n",
    "    count = {}\n",
    "    \n",
    "    for x in df1Offsets:\n",
    "        \n",
    "        count[x] = 0\n",
    "\n",
    "        \n",
    "        #count = np.sum(df2Offsets == x)\n",
    "        \n",
    "        #if(count != 1):\n",
    "        #    errors[count] = errors.get(count, 0) + 1\n",
    "        \n",
    "    for x in df1Offsets:\n",
    "        count[x] = count[x] + 1\n",
    "        \n",
    "    for k, v in count.items():\n",
    "        if v != 1:\n",
    "            errors[count] = errors.get(count, 0) + 1\n",
    "    \n",
    "    out = \"Received records \"\n",
    "    losses = False\n",
    "    for k, v in errors.items():\n",
    "        out += \"%ix for %i times; \" %(k,v)\n",
    "        losses = True\n",
    "    \n",
    "    if(losses):\n",
    "        print(out)\n",
    "    #else:\n",
    "    #    print(\"The expected data was received exactly once.\")\n",
    "    return not losses\n",
    "\n",
    "for x in nrange(len(names)):\n",
    "    try:\n",
    "        \n",
    "        if not calcDataLoss(produced_generated[x], 0, filtered[x], 3) :\n",
    "            print(\"Error\", names[x])\n",
    "        \n",
    "    except Exception as e:\n",
    "        plt.close()\n",
    "        print(e)\n",
    "        print(\"Error\", names[x], x)\n",
    "   "
   ]
  },
  {
   "cell_type": "markdown",
   "metadata": {},
   "source": [
    "## Latency produced - warning\n",
    "\n",
    "As the filter uses a median filter with size 5 it needs 3 outliers to detect a change. otherwise it is just skipped. ==> there must be a latency of at least (3*5ms) = 15ms"
   ]
  },
  {
   "cell_type": "markdown",
   "metadata": {},
   "source": [
    "### Check all anomalies were detected"
   ]
  },
  {
   "cell_type": "code",
   "execution_count": 20,
   "metadata": {},
   "outputs": [
    {
     "data": {
      "application/vnd.jupyter.widget-view+json": {
       "model_id": "ff657bb1b8fe463981e65534f784e59a",
       "version_major": 2,
       "version_minor": 0
      },
      "text/plain": [
       "HBox(children=(FloatProgress(value=0.0, max=21.0), HTML(value='')))"
      ]
     },
     "metadata": {},
     "output_type": "display_data"
    },
    {
     "name": "stdout",
     "output_type": "stream",
     "text": [
      "Found 3535 warnings\n",
      "Found 3535 warnings\n",
      "Found 3535 warnings\n",
      "Found 3535 warnings\n",
      "Found 3535 warnings\n",
      "Found 3535 warnings\n",
      "Found 3535 warnings\n",
      "Found 3535 warnings\n",
      "Found 3535 warnings\n",
      "Found 3535 warnings\n",
      "Found 3535 warnings\n",
      "Found 3535 warnings\n",
      "Found 3535 warnings\n",
      "Found 3535 warnings\n",
      "Found 3535 warnings\n",
      "Found 3535 warnings\n",
      "Found 3535 warnings\n",
      "Found 3535 warnings\n",
      "Found 3535 warnings\n",
      "Found 3535 warnings\n",
      "Found 3535 warnings\n",
      "\n"
     ]
    }
   ],
   "source": [
    "for x in nrange(len(names)):\n",
    "    try:\n",
    "        \n",
    "        filterOver10 = filtered[x][filtered[x][\"Data.Measurement\"] > 1.0]\n",
    "        filterOver10Joined = filterOver10.add_prefix('filtered_').set_index(\"filtered_Kafka.Offset\").join(warnings[x].add_prefix('warnings_').set_index(\"warnings_Record.BeginOffset\"))\n",
    "        noBelongingWarning = filterOver10Joined[filterOver10Joined[\"warnings_Consumer.Time\"].isna()]\n",
    "        print(\"Found %d warnings\" %(len(filterOver10)))\n",
    "        if(len(noBelongingWarning) > 0):\n",
    "            print(\"%s: For %d / %d anomalies there were no belonging warnings\" %(names[x], len(noBelongingWarning),len(filterOver10)))\n",
    "        \n",
    "    except Exception as e:\n",
    "        plt.close()\n",
    "        print(e)\n",
    "        print(\"Error\", names[x], x)"
   ]
  },
  {
   "cell_type": "code",
   "execution_count": 21,
   "metadata": {},
   "outputs": [
    {
     "data": {
      "application/vnd.jupyter.widget-view+json": {
       "model_id": "c014f5c7a1094c73aa15e9224255cc24",
       "version_major": 2,
       "version_minor": 0
      },
      "text/plain": [
       "HBox(children=(FloatProgress(value=0.0, max=21.0), HTML(value='')))"
      ]
     },
     "metadata": {},
     "output_type": "display_data"
    },
    {
     "name": "stdout",
     "output_type": "stream",
     "text": [
      "\n",
      "Time to detect an anomaly\n",
      "avg = 495.19 ms; median 462.00 ms; std 225.85 ms; min 96 ms; max 2178 ms; 90% 768.40 ms; 95% 874.50 ms; 99% 1222.46 ms; 99.9% 1785.31 ms\n"
     ]
    },
    {
     "data": {
      "text/plain": [
       "array([ 663., 1050.,  167.,  494.,  562.,  144.,  538.,  206.,  572.,\n",
       "        340.,  519.,  428.,  276.,  484.,  234.,  193.,  394.,  308.,\n",
       "        299.,  505.,  490., 1008.,  453.,  405.,  334.,  145.,  365.,\n",
       "        527.,  536.,  178.,  175.,  351.,  276.,  599.,  514., 1238.,\n",
       "        524.,  321.,  401.,  527.,  373.,  751.,  773.,  713.,  803.,\n",
       "        792.,  946.,  454.,  641.,  597.,  591.,  773.,  376.,  180.,\n",
       "        808.,  309.,  683.,  595.,  549., 1202.,  461.,  472., 1028.,\n",
       "        786.,  347.,  417.,  601.,  666.,  509.,  476., 1034.,  622.,\n",
       "        636.,  797.,  440.,  304.,  747.,  231., 1319.,  484., 1187.,\n",
       "        941.,  348.,  386.,  374.,  608.,  596.,  285.,  218.,  223.,\n",
       "        351.,  754.,  487.,  468.,  739.,  441.,  320.,  359.,  670.,\n",
       "        377.,  501.,  493.,  584.,  766.,  571.,  744.,  541.,  381.,\n",
       "        419.,  359., 1128., 1233.,  249.,  579.,  446.,  983.,  445.,\n",
       "        742.,  448.,  651.,  467.,  443.,  188.,  590.,  458.,  590.,\n",
       "        732.,  298.,  698.,  336.,  339.,  613.,  549.,  635.,  365.,\n",
       "        543.,  354.,  206.,  401.,  291.,  375.,  426.,  642.,  680.,\n",
       "        776.,  779., 2178.,  329.,  595.,  675.,  873.,  332.,  224.,\n",
       "        763., 1052.,  262.,  645.,  230.,  712.,  363.,  659.,  700.,\n",
       "        741.,  309.,  562.,  284.,  342.,  324.,  867.,  364.,  605.,\n",
       "        563.,  283.,  764.,  643.,  702.,  317.,  202.,  485.,  602.,\n",
       "        453., 1643.,  563.,  601.,  365.,  814.,  438.,  297.,  199.,\n",
       "        470.,  463.,  556.,  335.,  668.,  147.,  520.,  212.,  426.,\n",
       "        153.,  554.,  249.,  465.,  206.,  595.,  303.,  333.,  398.,\n",
       "        498.,  382.,  688.,  376.,  409.,  118.,  405.,  238.,  536.,\n",
       "        505.,  384.,  394.,  570.,  651.,  481.,  352.,  325.,  474.,\n",
       "        343.,  212.,  465.,  137.,  538.,  366.,  165.,  313.,  371.,\n",
       "        257.,  373.,  209.,  127.,  643.,  311.,  576.,  258.,  479.,\n",
       "        373.,  359.,  409.,  561.,  390.,  448.,  690.,  361.,  990.,\n",
       "        626.,  501.,  556.,  195.,  513.,  429.,  814.,  583.,  318.,\n",
       "        161.,  393.,  501.,  321.,  504.,  409.,  267.,  501.,  383.,\n",
       "        256.,  530.,  206.,  586.,  710.,  403.,  402.,  523.,  382.,\n",
       "        478.,  520.,  403.,  424.,  343.,  311.,  441.,  670.,  470.,\n",
       "        451.,  565.,  529.,  412.,  403.,  576.,  172.,  324.,  523.,\n",
       "        308., 1194.,  154.,  594.,  404.,  532.,  423.,  595.,  316.,\n",
       "       1388.,  362.,  174.,  365.,  366.,  310.,  268.,  585.,  464.,\n",
       "        470.,  129.,  723.,  371.,  556.,  316.,  608.,  447.,  447.,\n",
       "        248.,  681.,  604.,  438.,  871.,  344.,  368.,  420.,  362.,\n",
       "        451.,  388.,  400.,  535.,  357.,  573.,  666.,  617.,  214.,\n",
       "        660.,  485.,  367.,  412.,  438.,  762.,  865.,  233.,  536.,\n",
       "        409.,  799.,  420.,  371.,  343.,  687.,  611.,  534.,  464.,\n",
       "        507.,  537.,  326.,  329.,  274.,  545.,  676.,  221.,  334.,\n",
       "        434.,  620.,  664.,  454.,  325.,  519.,  447.,  115.,  424.,\n",
       "        477.,  617.,  659.,  300.,  460.,  648.,  159.,  557.,  363.,\n",
       "        734.,  501.,  382.,  511.,  770.,  510.,  554.,  467.,  881.,\n",
       "        572., 1329.,  938.,  354.,  265.,  567.,  445.,  709.,  869.,\n",
       "        426.,  937.,  221.,  414.,  272.,  485.,  471.,  755.,  718.,\n",
       "        382.,  674.,  867.,  491.,  445.,  245.,  173.,  545.,  267.,\n",
       "        196.,  492.,  615.,  157.,  324.,  631.,  547.,  140.,  186.,\n",
       "        413.,  432.,  467.,  400.,  659.,  316.,  522.,  778.,  313.,\n",
       "        235.,  384.,  321.,  394.,  153.,  213.,  360.,  252.,  359.,\n",
       "        299., 1136.,  335.,  418.,  291.,  368.,  432., 1257.,  576.,\n",
       "        635.,  374.,  543.,  561.,  400.,  850.,  727.,  419.,  359.,\n",
       "        754.,  781.,  846.,  329.,  664.,  570.,  914.,  837.,  459.,\n",
       "        570.,  479., 1081.,  591.,  438.,  196.,  491.,  795.,  424.,\n",
       "        231.,  414.,  438.,  665.,  851.,  678.,  233.,  404.,  546.,\n",
       "        311.,  452.,  836.,  454.,  675.,  466.,  222.,  514.,  226.,\n",
       "        621.,  425.,  791.,  527.,  521.,  668.,  487.,  607.,  502.,\n",
       "        464.,  287.,  286.,  120.,  529.,  415.,  713.,  532.,  406.,\n",
       "        385.,  521.,  375.,  581.,  438.,  443.,  387.,  420.,  147.,\n",
       "        166.,  515.,  144.,  450.,  393.,  567.,  679.,  267.,  608.,\n",
       "        474.,  465.,  578.,  351.,  178.,  395.,  380.,  702.,  193.,\n",
       "        410.,  423.,  120.,  462.,  316.,  242.,  410.,  207.,  489.,\n",
       "        701.,  528.,  495.,  258.,  482.,  194.,   96.,  365.,  394.,\n",
       "        361.,  437.,  378.,  297.,  513.,  412.,  360.,  520.,  576.,\n",
       "        500.,  328.,  176.,  475.,  499.,  353.,  661.,  164.,  390.,\n",
       "        241.,  237.,  239.,  514.,  533.,  627.,  558.,  263.,  229.,\n",
       "        321.,  406.,  256.,  749.,  434.,  781.,  946.,  975.,  448.,\n",
       "        361.,  569.,  234.,  413.,  497.,  452.,  438.,  627.,  504.,\n",
       "        593.,  326.,  968.,  322.,  529.,  352.,  543.,  727.,  490.,\n",
       "        251.,  388.,  373.,  591.,  799.,  740.,  494.,  534.,  827.,\n",
       "        500.,  315.,  407.,  521.,  392.,  561.,  305.,  477.,  466.,\n",
       "        708., 1088., 1148.,  367.,  151.,  225.,  796.,  478.,  693.,\n",
       "        714.,  377., 1180.,  452.,  459.,  445.,  475.,  878., 1127.,\n",
       "        475.,  500.,  359.,  637.,  642.,  642.,  799.,  347.,  796.,\n",
       "        275.,  346.,  436.,  371.,  443.,  303.,  205.,  466.,  198.,\n",
       "        457.,  672.,  341.,  308.,  675.,  591.,  766.,  301.,  448.,\n",
       "        288.,  542.,  550.,  414.,  421.,  465.,  503.,  415.,  644.,\n",
       "        508.,  230.,  349.,  593.,  252.,  444.,  624.,  764.,  572.,\n",
       "        697.,  924.,  564.,  462., 1002.,  388.,  497.,  541.,  655.,\n",
       "        745.,  401.,  693.,  445.,  508.,  444.,  870.,  430.,  458.,\n",
       "        404.,  402.,  467.,  359.,  341.,  648.,  462.,  357.,  770.,\n",
       "        468.,  624.,  479.,  514.,  550.,  836.])"
      ]
     },
     "execution_count": 21,
     "metadata": {},
     "output_type": "execute_result"
    }
   ],
   "source": [
    "currentPath = output + \"anomalyDetectionTime\"\n",
    "prepareDictory(currentPath + os.path.sep)\n",
    "\n",
    "diffList = []\n",
    "\n",
    "for x in nrange(len(names)):\n",
    "    try:\n",
    "        \n",
    "        #received and produced\n",
    "        pr_rc = produced_generated[x].add_prefix('produced_generated_').set_index(\"produced_generated_Kafka.Offset\").join(produced_recieved[x].add_prefix('produced_recieved_').set_index(\"produced_recieved_Kafka.Offset\")).reset_index()\n",
    "\n",
    "        #received and produced and filtered\n",
    "        pr_rc_fi = pr_rc.set_index(\"produced_generated_Kafka.Offset\").join(filtered[x].add_prefix('filtered_').set_index(\"filtered_Data.Offset\")).reset_index()\n",
    "\n",
    "        #changes and received and produced and filtered\n",
    "        mc_pg_pr_fi = modelchange[x].add_prefix('modelchange_').set_index(\"modelchange_producedElements\").join(pr_rc_fi.set_index(\"produced_generated_ProducedElements\")).reset_index().rename(columns={'modelchange_producedElements': 'producedElements'})\n",
    "\n",
    "        #merge all with warnings\n",
    "        fullJoin = mc_pg_pr_fi.set_index(\"filtered_Kafka.Offset\").join(warnings[x].add_prefix('warning_').set_index(\"warning_Record.BeginOffset\")).reset_index()\n",
    "\n",
    "        fullJoinOver10 = fullJoin[fullJoin[\"modelchange_value\"] > 1]\n",
    "\n",
    "        diff = (fullJoinOver10['warning_Consumer.Time'] - fullJoinOver10['produced_generated_Producer.Timestamp']).to_numpy()\n",
    "\n",
    "        timestamps = fullJoinOver10['produced_generated_Producer.Timestamp'].to_numpy()\n",
    "\n",
    "        if (np.isnan(diff[-1])):\n",
    "            diff = diff[:-1]\n",
    "            timestamps = timestamps[:-1]\n",
    "\n",
    "\n",
    "        diffList.append(diff)\n",
    "        extractAvgMedStdMinMaxFromArray(diff, timestamps, currentPath + os.path.sep, names[x], firstTimestamp[x])\n",
    "        \n",
    "    except Exception as e:\n",
    "        plt.close()\n",
    "        print(e)\n",
    "        print(\"Error\", names[x], x)\n",
    "\n",
    "print(\"Time to detect an anomaly\")\n",
    "_ = extractAvgMedStdMinMaxFromListOfArray(diffList, currentPath)"
   ]
  },
  {
   "cell_type": "markdown",
   "metadata": {},
   "source": [
    "## Usage"
   ]
  },
  {
   "cell_type": "code",
   "execution_count": 22,
   "metadata": {},
   "outputs": [],
   "source": [
    "def extractUsage(lines, server, run):\n",
    "    data = {}\n",
    "\n",
    "    date = None\n",
    "    for l in lines:\n",
    "        if l.startswith(\"Time \"):\n",
    "            date = int(l[5:-1])\n",
    "        else:\n",
    "            e = l.split(' ');\n",
    "            e = list(filter(lambda x: x != \"\", e))\n",
    "            cpu = float(e[0])\n",
    "            mem = float(e[1])\n",
    "            pid = int(e[2])\n",
    "            time = e[3].split(\":\")\n",
    "            secondsRunning = int(time[0]) * 3600 + int(time[1]) * 60 + int(time[2])\n",
    "            name = e[4]\n",
    "            container = e[5]\n",
    "            up = e[6]\n",
    "            \n",
    "            if(name.startswith(\"etcd\")):\n",
    "                pass\n",
    "            else:\n",
    "                split = name.split(\"_\")\n",
    "                \n",
    "                if split[1] == \"POD\":\n",
    "                    continue\n",
    "                name = split[1] + \"-\" +  split[2]\n",
    "            \n",
    "            pid_data = data.get(pid, {\n",
    "                \"mem\": [],\n",
    "                \"cpu\": [],\n",
    "                \"pid\" : pid,\n",
    "                \"running\" : [],\n",
    "                \"name\" : name,\n",
    "                \"container\" : container\n",
    "            })\n",
    "\n",
    "            pid_data[\"mem\"].append(mem)\n",
    "            pid_data[\"cpu\"].append(cpu)\n",
    "            pid_data[\"running\"].append(date)\n",
    "\n",
    "            data[pid] = pid_data\n",
    "\n",
    "    zero_cpu = []\n",
    "    for k in data:\n",
    "        summ = sum(data[k][\"cpu\"])\n",
    "        if summ == 0.0 or data[k][\"name\"].startswith(\"debug\"):\n",
    "            zero_cpu.append(k)\n",
    "\n",
    "    for x in zero_cpu:\n",
    "        del data[x]\n",
    "\n",
    "    outpath = output + \"usage\" + os.path.sep\n",
    "    \n",
    "    outpathMem = outpath + \"mem\" + os.path.sep\n",
    "    outpathCPU = outpath + \"cpu\" + os.path.sep\n",
    "\n",
    "    os.makedirs(outpathMem, exist_ok=True)\n",
    "    os.makedirs(outpathCPU, exist_ok=True)\n",
    "\n",
    "    for k in data:\n",
    "        cpu = data[k][\"cpu\"]\n",
    "        running = data[k][\"running\"]\n",
    "        plt.plot(running, cpu, label = data[k][\"name\"][:40])\n",
    "    plt.legend() \n",
    "    plt.ylabel(\"CPU usage in %\")\n",
    "    #plt.ylim((0,5))\n",
    "    plt.savefig(outpathCPU + server + \"_\" + str(run) + \".pdf\")\n",
    "    plt.savefig(outpathCPU + server + \"_\" + str(run) + \".jpg\", dpi = 300)\n",
    "    #plt.show()\n",
    "    plt.close()\n",
    "\n",
    "    for k in data:\n",
    "        mem = data[k][\"mem\"]\n",
    "        running = data[k][\"running\"]\n",
    "        plt.plot(running, mem, label = data[k][\"name\"][:40])\n",
    "    plt.ylabel(\"memory usage in %\")\n",
    "    plt.legend()   \n",
    "    #plt.ylim((0,5))\n",
    "    plt.savefig(outpathMem + server + \"_\" + str(run) + \".pdf\")\n",
    "    plt.savefig(outpathMem + server + \"_\" + str(run) + \".jpg\", dpi = 300)\n",
    "    #plt.show()\n",
    "    plt.close()"
   ]
  },
  {
   "cell_type": "code",
   "execution_count": 23,
   "metadata": {},
   "outputs": [
    {
     "data": {
      "application/vnd.jupyter.widget-view+json": {
       "model_id": "a8f689c19ed84f4c83d75d45583d846a",
       "version_major": 2,
       "version_minor": 0
      },
      "text/plain": [
       "HBox(children=(FloatProgress(value=0.0, max=10.0), HTML(value='')))"
      ]
     },
     "metadata": {},
     "output_type": "display_data"
    },
    {
     "name": "stdout",
     "output_type": "stream",
     "text": [
      "\n"
     ]
    },
    {
     "data": {
      "application/vnd.jupyter.widget-view+json": {
       "model_id": "3f229c76f790447fa5c68ddcea4a5c10",
       "version_major": 2,
       "version_minor": 0
      },
      "text/plain": [
       "HBox(children=(FloatProgress(value=0.0, max=10.0), HTML(value='')))"
      ]
     },
     "metadata": {},
     "output_type": "display_data"
    },
    {
     "name": "stdout",
     "output_type": "stream",
     "text": [
      "\n"
     ]
    },
    {
     "data": {
      "application/vnd.jupyter.widget-view+json": {
       "model_id": "4259bbb8eb624c05ba86b1074160cb5a",
       "version_major": 2,
       "version_minor": 0
      },
      "text/plain": [
       "HBox(children=(FloatProgress(value=0.0, max=10.0), HTML(value='')))"
      ]
     },
     "metadata": {},
     "output_type": "display_data"
    },
    {
     "name": "stdout",
     "output_type": "stream",
     "text": [
      "\n"
     ]
    }
   ],
   "source": [
    "runs = [x for x in os.listdir(path)]\n",
    "\n",
    "for run in runs:\n",
    "    p = path + run + os.path.sep + \"logs\" + os.path.sep + \"usage\" + os.path.sep\n",
    "    servers = os.listdir(p)\n",
    "    for server in tqdm(servers):\n",
    "        file = open(p + server + os.path.sep + \"ps.log\", 'r') \n",
    "        lines = file.readlines() \n",
    "        extractUsage(lines, server, run)"
   ]
  },
  {
   "cell_type": "markdown",
   "metadata": {},
   "source": [
    "## Responsibilities\n",
    "\n",
    "shows already the server ID not kafka ID"
   ]
  },
  {
   "cell_type": "code",
   "execution_count": 43,
   "metadata": {},
   "outputs": [
    {
     "name": "stdout",
     "output_type": "stream",
     "text": [
      "\u001b[34mRUN:0\u001b[0m\n",
      "t4\n",
      "{0: {'leader': 'server7', 'replicas': {'server7', 'server5', 'server4'}, 'isrs': {'server7', 'server5', 'server4'}}}\n",
      "\n",
      "t5\n",
      "{0: {'leader': 'server4', 'replicas': {'server7', 'server4', 'server3'}, 'isrs': {'server7', 'server4', 'server3'}}}\n",
      "\n",
      "t4_filtered\n",
      "{0: {'leader': 'server4', 'replicas': {'server1', 'server5', 'server4'}, 'isrs': {'server1', 'server5', 'server4'}}}\n",
      "\n",
      "t2_filtered\n",
      "{0: {'leader': 'server5', 'replicas': {'server5', 'server2', 'server4'}, 'isrs': {'server5', 'server2', 'server4'}}}\n",
      "\n",
      "t7_warnings\n",
      "{0: {'leader': 'server6', 'replicas': {'server6', 'server2', 'server4'}, 'isrs': {'server6', 'server2', 'server4'}}}\n",
      "\n",
      "t1_filtered\n",
      "{0: {'leader': 'server5', 'replicas': {'server5', 'server2', 'server6'}, 'isrs': {'server5', 'server2', 'server6'}}}\n",
      "\n",
      "t3\n",
      "{0: {'leader': 'server5', 'replicas': {'server7', 'server5', 'server3'}, 'isrs': {'server7', 'server5', 'server3'}}}\n",
      "\n",
      "t6\n",
      "{0: {'leader': 'server4', 'replicas': {'server1', 'server5', 'server4'}, 'isrs': {'server1', 'server5', 'server4'}}}\n",
      "\n",
      "t6_filtered\n",
      "{0: {'leader': 'server1', 'replicas': {'server1', 'server7', 'server3'}, 'isrs': {'server1', 'server7', 'server3'}}}\n",
      "\n",
      "t5_filtered\n",
      "{0: {'leader': 'server2', 'replicas': {'server6', 'server2', 'server3'}, 'isrs': {'server6', 'server2', 'server3'}}}\n",
      "\n",
      "t7_filtered\n",
      "{0: {'leader': 'server4', 'replicas': {'server6', 'server4', 'server3'}, 'isrs': {'server6', 'server4', 'server3'}}}\n",
      "\n",
      "__consumer_offsets\n",
      "{0: {'leader': 'server1', 'replicas': {'server1', 'server6'}, 'isrs': {'server1', 'server6'}}, 1: {'leader': 'server4', 'replicas': {'server1', 'server4'}, 'isrs': {'server1', 'server4'}}}\n",
      "\n",
      "t2\n",
      "{0: {'leader': 'server1', 'replicas': {'server1', 'server6', 'server3'}, 'isrs': {'server1', 'server6', 'server3'}}}\n",
      "\n",
      "t7\n",
      "{0: {'leader': 'server7', 'replicas': {'server7', 'server2', 'server4'}, 'isrs': {'server7', 'server2', 'server4'}}}\n",
      "\n",
      "t1_warnings\n",
      "{0: {'leader': 'server7', 'replicas': {'server7', 'server6', 'server3'}, 'isrs': {'server7', 'server6', 'server3'}}}\n",
      "\n",
      "t6_warnings\n",
      "{0: {'leader': 'server5', 'replicas': {'server5', 'server2', 'server6'}, 'isrs': {'server5', 'server2', 'server6'}}}\n",
      "\n",
      "t2_warnings\n",
      "{0: {'leader': 'server6', 'replicas': {'server7', 'server6', 'server3'}, 'isrs': {'server7', 'server6', 'server3'}}}\n",
      "\n",
      "t4_warnings\n",
      "{0: {'leader': 'server5', 'replicas': {'server5', 'server2', 'server4'}, 'isrs': {'server5', 'server2', 'server4'}}}\n",
      "\n",
      "t3_filtered\n",
      "{0: {'leader': 'server5', 'replicas': {'server1', 'server5', 'server4'}, 'isrs': {'server1', 'server5', 'server4'}}}\n",
      "\n",
      "t1\n",
      "{0: {'leader': 'server4', 'replicas': {'server7', 'server4', 'server3'}, 'isrs': {'server7', 'server4', 'server3'}}}\n",
      "\n",
      "t5_warnings\n",
      "{0: {'leader': 'server4', 'replicas': {'server5', 'server2', 'server4'}, 'isrs': {'server5', 'server2', 'server4'}}}\n",
      "\n",
      "t3_warnings\n",
      "{0: {'leader': 'server5', 'replicas': {'server1', 'server5', 'server7'}, 'isrs': {'server1', 'server5', 'server7'}}}\n",
      "\n",
      "====================================\n",
      "====================================\n",
      "====================================\n",
      "====================================\n",
      "====================================\n",
      "analyst-0\n",
      "{'state': 'Running', 'server': 'server5'}\n",
      "\n",
      "analyst-1\n",
      "{'state': 'Running', 'server': 'server3'}\n",
      "\n",
      "analyst-2\n",
      "{'state': 'Running', 'server': 'server2'}\n",
      "\n",
      "analyst-3\n",
      "{'state': 'Running', 'server': 'server6'}\n",
      "\n",
      "analyst-4\n",
      "{'state': 'Running', 'server': 'server7'}\n",
      "\n",
      "analyst-5\n",
      "{'state': 'Running', 'server': 'server4'}\n",
      "\n",
      "analyst-6\n",
      "{'state': 'Running', 'server': 'server1'}\n",
      "\n",
      "filter-0\n",
      "{'state': 'Running', 'server': 'server3'}\n",
      "\n",
      "filter-1\n",
      "{'state': 'Running', 'server': 'server2'}\n",
      "\n",
      "filter-2\n",
      "{'state': 'Running', 'server': 'server5'}\n",
      "\n",
      "filter-3\n",
      "{'state': 'Running', 'server': 'server6'}\n",
      "\n",
      "filter-4\n",
      "{'state': 'Running', 'server': 'server10'}\n",
      "\n",
      "filter-5\n",
      "{'state': 'Running', 'server': 'server9'}\n",
      "\n",
      "filter-6\n",
      "{'state': 'Running', 'server': 'server8'}\n",
      "\n",
      "kafka-0\n",
      "{'state': 'Running', 'server': 'server2'}\n",
      "\n",
      "kafka-1\n",
      "{'state': 'Running', 'server': 'server5'}\n",
      "\n",
      "kafka-2\n",
      "{'state': 'Running', 'server': 'server3'}\n",
      "\n",
      "kafka-3\n",
      "{'state': 'Running', 'server': 'server6'}\n",
      "\n",
      "kafka-4\n",
      "{'state': 'Running', 'server': 'server1'}\n",
      "\n",
      "kafka-5\n",
      "{'state': 'Running', 'server': 'server4'}\n",
      "\n",
      "kafka-6\n",
      "{'state': 'Running', 'server': 'server7'}\n",
      "\n",
      "producer-6rd6v\n",
      "{'state': 'Running', 'server': 'server1'}\n",
      "\n",
      "producer-bz2fj\n",
      "{'state': 'Running', 'server': 'server4'}\n",
      "\n",
      "producer-ffv8x\n",
      "{'state': 'Running', 'server': 'server6'}\n",
      "\n",
      "producer-l24bb\n",
      "{'state': 'Running', 'server': 'server5'}\n",
      "\n",
      "producer-nv6wc\n",
      "{'state': 'Running', 'server': 'server3'}\n",
      "\n",
      "producer-z29gj\n",
      "{'state': 'Running', 'server': 'server2'}\n",
      "\n",
      "producer-zvrj2\n",
      "{'state': 'Running', 'server': 'server7'}\n",
      "\n",
      "zoo-0\n",
      "{'state': 'Running', 'server': 'server3'}\n",
      "\n",
      "zoo-1\n",
      "{'state': 'Running', 'server': 'server6'}\n",
      "\n",
      "zoo-2\n",
      "{'state': 'Running', 'server': 'server1'}\n",
      "\n",
      "====================================\n",
      "====================================\n",
      "====================================\n",
      "====================================\n",
      "====================================\n",
      "\u001b[34mRUN:1\u001b[0m\n",
      "t4\n",
      "{0: {'leader': 'server1', 'replicas': {'server1', 'server5', 'server3'}, 'isrs': {'server1', 'server5', 'server3'}}}\n",
      "\n",
      "t5\n",
      "{0: {'leader': 'server1', 'replicas': {'server1', 'server5', 'server3'}, 'isrs': {'server1', 'server5', 'server3'}}}\n",
      "\n",
      "t4_filtered\n",
      "{0: {'leader': 'server7', 'replicas': {'server7', 'server6', 'server4'}, 'isrs': {'server7', 'server6', 'server4'}}}\n",
      "\n",
      "t2_filtered\n",
      "{0: {'leader': 'server6', 'replicas': {'server1', 'server6', 'server2'}, 'isrs': {'server1', 'server6', 'server2'}}}\n",
      "\n",
      "t7_warnings\n",
      "{0: {'leader': 'server5', 'replicas': {'server5', 'server4', 'server6'}, 'isrs': {'server5', 'server4', 'server6'}}}\n",
      "\n",
      "t1_filtered\n",
      "{0: {'leader': 'server6', 'replicas': {'server1', 'server6', 'server2'}, 'isrs': {'server1', 'server6', 'server2'}}}\n",
      "\n",
      "t3\n",
      "{0: {'leader': 'server3', 'replicas': {'server7', 'server5', 'server3'}, 'isrs': {'server7', 'server5', 'server3'}}}\n",
      "\n",
      "t6\n",
      "{0: {'leader': 'server5', 'replicas': {'server7', 'server5', 'server3'}, 'isrs': {'server7', 'server5', 'server3'}}}\n",
      "\n",
      "t6_filtered\n",
      "{0: {'leader': 'server1', 'replicas': {'server1', 'server5', 'server7'}, 'isrs': {'server1', 'server5', 'server7'}}}\n",
      "\n",
      "t5_filtered\n",
      "{0: {'leader': 'server7', 'replicas': {'server7', 'server5', 'server3'}, 'isrs': {'server7', 'server5', 'server3'}}}\n",
      "\n",
      "t7_filtered\n",
      "{0: {'leader': 'server2', 'replicas': {'server1', 'server2', 'server3'}, 'isrs': {'server1', 'server2', 'server3'}}}\n",
      "\n",
      "__consumer_offsets\n",
      "{0: {'leader': 'server2', 'replicas': {'server7', 'server2'}, 'isrs': {'server7', 'server2'}}, 1: {'leader': 'server5', 'replicas': {'server5', 'server2'}, 'isrs': {'server5', 'server2'}}}\n",
      "\n",
      "t2\n",
      "{0: {'leader': 'server6', 'replicas': {'server1', 'server6', 'server2'}, 'isrs': {'server1', 'server6', 'server2'}}}\n",
      "\n",
      "t7\n",
      "{0: {'leader': 'server1', 'replicas': {'server1', 'server2', 'server3'}, 'isrs': {'server1', 'server2', 'server3'}}}\n",
      "\n",
      "t1_warnings\n",
      "{0: {'leader': 'server7', 'replicas': {'server1', 'server2', 'server7'}, 'isrs': {'server1', 'server2', 'server7'}}}\n",
      "\n",
      "t6_warnings\n",
      "{0: {'leader': 'server6', 'replicas': {'server1', 'server6', 'server2'}, 'isrs': {'server1', 'server6', 'server2'}}}\n",
      "\n",
      "t2_warnings\n",
      "{0: {'leader': 'server3', 'replicas': {'server7', 'server5', 'server3'}, 'isrs': {'server7', 'server5', 'server3'}}}\n",
      "\n",
      "t4_warnings\n",
      "{0: {'leader': 'server2', 'replicas': {'server1', 'server2', 'server3'}, 'isrs': {'server1', 'server2', 'server3'}}}\n",
      "\n",
      "t3_filtered\n",
      "{0: {'leader': 'server2', 'replicas': {'server1', 'server2', 'server3'}, 'isrs': {'server1', 'server2', 'server3'}}}\n",
      "\n",
      "t1\n",
      "{0: {'leader': 'server4', 'replicas': {'server7', 'server5', 'server4'}, 'isrs': {'server7', 'server5', 'server4'}}}\n",
      "\n",
      "t5_warnings\n",
      "{0: {'leader': 'server6', 'replicas': {'server5', 'server6', 'server3'}, 'isrs': {'server5', 'server6', 'server3'}}}\n",
      "\n",
      "t3_warnings\n",
      "{0: {'leader': 'server2', 'replicas': {'server5', 'server2', 'server3'}, 'isrs': {'server5', 'server2', 'server3'}}}\n",
      "\n",
      "====================================\n",
      "====================================\n",
      "====================================\n",
      "====================================\n",
      "====================================\n",
      "analyst-0\n",
      "{'state': 'Running', 'server': 'server4'}\n",
      "\n",
      "analyst-1\n",
      "{'state': 'Running', 'server': 'server1'}\n",
      "\n",
      "analyst-2\n",
      "{'state': 'Running', 'server': 'server5'}\n",
      "\n",
      "analyst-3\n",
      "{'state': 'Running', 'server': 'server3'}\n",
      "\n",
      "analyst-4\n",
      "{'state': 'Running', 'server': 'server6'}\n",
      "\n",
      "analyst-5\n",
      "{'state': 'Running', 'server': 'server2'}\n",
      "\n",
      "analyst-6\n",
      "{'state': 'Running', 'server': 'server7'}\n",
      "\n",
      "filter-0\n",
      "{'state': 'Running', 'server': 'server5'}\n",
      "\n",
      "filter-1\n",
      "{'state': 'Running', 'server': 'server1'}\n",
      "\n",
      "filter-2\n",
      "{'state': 'Running', 'server': 'server4'}\n",
      "\n",
      "filter-3\n",
      "{'state': 'Running', 'server': 'server3'}\n",
      "\n",
      "filter-4\n",
      "{'state': 'Running', 'server': 'server10'}\n",
      "\n",
      "filter-5\n",
      "{'state': 'Running', 'server': 'server9'}\n",
      "\n",
      "filter-6\n",
      "{'state': 'Running', 'server': 'server8'}\n",
      "\n",
      "kafka-0\n",
      "{'state': 'Running', 'server': 'server5'}\n",
      "\n",
      "kafka-1\n",
      "{'state': 'Running', 'server': 'server4'}\n",
      "\n",
      "kafka-2\n",
      "{'state': 'Running', 'server': 'server1'}\n",
      "\n",
      "kafka-3\n",
      "{'state': 'Running', 'server': 'server3'}\n",
      "\n",
      "kafka-4\n",
      "{'state': 'Running', 'server': 'server6'}\n",
      "\n",
      "kafka-5\n",
      "{'state': 'Running', 'server': 'server7'}\n",
      "\n",
      "kafka-6\n",
      "{'state': 'Running', 'server': 'server2'}\n",
      "\n",
      "producer-6qlmb\n",
      "{'state': 'Running', 'server': 'server6'}\n",
      "\n",
      "producer-lvkzg\n",
      "{'state': 'Running', 'server': 'server1'}\n",
      "\n",
      "producer-pflw4\n",
      "{'state': 'Running', 'server': 'server3'}\n",
      "\n",
      "producer-pvwkr\n",
      "{'state': 'Running', 'server': 'server7'}\n",
      "\n",
      "producer-q2q86\n",
      "{'state': 'Running', 'server': 'server2'}\n",
      "\n",
      "producer-qnfch\n",
      "{'state': 'Running', 'server': 'server5'}\n",
      "\n",
      "producer-s5txw\n",
      "{'state': 'Running', 'server': 'server4'}\n",
      "\n",
      "zoo-0\n",
      "{'state': 'Running', 'server': 'server7'}\n",
      "\n",
      "zoo-1\n",
      "{'state': 'Running', 'server': 'server2'}\n",
      "\n",
      "zoo-2\n",
      "{'state': 'Running', 'server': 'server1'}\n",
      "\n",
      "====================================\n",
      "====================================\n",
      "====================================\n",
      "====================================\n",
      "====================================\n",
      "\u001b[34mRUN:2\u001b[0m\n",
      "t4\n",
      "{0: {'leader': 'server3', 'replicas': {'server7', 'server4', 'server3'}, 'isrs': {'server7', 'server4', 'server3'}}}\n",
      "\n",
      "t5\n",
      "{0: {'leader': 'server5', 'replicas': {'server7', 'server5', 'server4'}, 'isrs': {'server7', 'server5', 'server4'}}}\n",
      "\n",
      "t4_filtered\n",
      "{0: {'leader': 'server7', 'replicas': {'server7', 'server6', 'server4'}, 'isrs': {'server7', 'server6', 'server4'}}}\n",
      "\n",
      "t2_filtered\n",
      "{0: {'leader': 'server7', 'replicas': {'server7', 'server5', 'server3'}, 'isrs': {'server7', 'server5', 'server3'}}}\n",
      "\n",
      "t7_warnings\n",
      "{0: {'leader': 'server3', 'replicas': {'server7', 'server4', 'server3'}, 'isrs': {'server7', 'server4', 'server3'}}}\n",
      "\n",
      "t1_filtered\n",
      "{0: {'leader': 'server4', 'replicas': {'server7', 'server6', 'server4'}, 'isrs': {'server7', 'server6', 'server4'}}}\n",
      "\n",
      "t3\n",
      "{0: {'leader': 'server1', 'replicas': {'server1', 'server5', 'server3'}, 'isrs': {'server1', 'server5', 'server3'}}}\n",
      "\n",
      "t6\n",
      "{0: {'leader': 'server6', 'replicas': {'server7', 'server6', 'server4'}, 'isrs': {'server7', 'server6', 'server4'}}}\n",
      "\n",
      "t6_filtered\n",
      "{0: {'leader': 'server4', 'replicas': {'server5', 'server4', 'server3'}, 'isrs': {'server5', 'server4', 'server3'}}}\n",
      "\n",
      "t5_filtered\n",
      "{0: {'leader': 'server1', 'replicas': {'server1', 'server6', 'server4'}, 'isrs': {'server1', 'server6', 'server4'}}}\n",
      "\n",
      "t7_filtered\n",
      "{0: {'leader': 'server5', 'replicas': {'server5', 'server2', 'server3'}, 'isrs': {'server5', 'server2', 'server3'}}}\n",
      "\n",
      "__consumer_offsets\n",
      "{0: {'leader': 'server6', 'replicas': {'server1', 'server6'}, 'isrs': {'server1', 'server6'}}, 1: {'leader': 'server4', 'replicas': {'server7', 'server4'}, 'isrs': {'server7', 'server4'}}}\n",
      "\n",
      "t2\n",
      "{0: {'leader': 'server5', 'replicas': {'server5', 'server4', 'server6'}, 'isrs': {'server5', 'server4', 'server6'}}}\n",
      "\n",
      "t7\n",
      "{0: {'leader': 'server6', 'replicas': {'server1', 'server6', 'server4'}, 'isrs': {'server1', 'server6', 'server4'}}}\n",
      "\n",
      "t1_warnings\n",
      "{0: {'leader': 'server1', 'replicas': {'server7', 'server1', 'server4'}, 'isrs': {'server7', 'server1', 'server4'}}}\n",
      "\n",
      "t6_warnings\n",
      "{0: {'leader': 'server4', 'replicas': {'server7', 'server2', 'server4'}, 'isrs': {'server7', 'server2', 'server4'}}}\n",
      "\n",
      "t2_warnings\n",
      "{0: {'leader': 'server2', 'replicas': {'server7', 'server2', 'server4'}, 'isrs': {'server7', 'server2', 'server4'}}}\n",
      "\n",
      "t4_warnings\n",
      "{0: {'leader': 'server5', 'replicas': {'server1', 'server5', 'server6'}, 'isrs': {'server1', 'server5', 'server6'}}}\n",
      "\n",
      "t3_filtered\n",
      "{0: {'leader': 'server2', 'replicas': {'server5', 'server2', 'server3'}, 'isrs': {'server5', 'server2', 'server3'}}}\n",
      "\n",
      "t1\n",
      "{0: {'leader': 'server1', 'replicas': {'server7', 'server1', 'server2'}, 'isrs': {'server7', 'server1', 'server2'}}}\n",
      "\n",
      "t5_warnings\n",
      "{0: {'leader': 'server6', 'replicas': {'server7', 'server6', 'server4'}, 'isrs': {'server7', 'server6', 'server4'}}}\n",
      "\n",
      "t3_warnings\n",
      "{0: {'leader': 'server4', 'replicas': {'server5', 'server2', 'server4'}, 'isrs': {'server5', 'server2', 'server4'}}}\n",
      "\n",
      "====================================\n",
      "====================================\n",
      "====================================\n",
      "====================================\n",
      "====================================\n",
      "analyst-0\n",
      "{'state': 'Running', 'server': 'server7'}\n",
      "\n",
      "analyst-1\n",
      "{'state': 'Running', 'server': 'server5'}\n",
      "\n",
      "analyst-2\n",
      "{'state': 'Running', 'server': 'server6'}\n",
      "\n",
      "analyst-3\n",
      "{'state': 'Running', 'server': 'server4'}\n",
      "\n",
      "analyst-4\n",
      "{'state': 'Running', 'server': 'server3'}\n",
      "\n",
      "analyst-5\n",
      "{'state': 'Running', 'server': 'server2'}\n",
      "\n",
      "analyst-6\n",
      "{'state': 'Running', 'server': 'server10'}\n",
      "\n",
      "filter-0\n",
      "{'state': 'Running', 'server': 'server5'}\n",
      "\n",
      "filter-1\n",
      "{'state': 'Running', 'server': 'server7'}\n",
      "\n",
      "filter-2\n",
      "{'state': 'Running', 'server': 'server6'}\n",
      "\n",
      "filter-3\n",
      "{'state': 'Running', 'server': 'server4'}\n",
      "\n",
      "filter-4\n",
      "{'state': 'Running', 'server': 'server3'}\n",
      "\n",
      "filter-5\n",
      "{'state': 'Running', 'server': 'server9'}\n",
      "\n",
      "filter-6\n",
      "{'state': 'Running', 'server': 'server8'}\n",
      "\n",
      "kafka-0\n",
      "{'state': 'Running', 'server': 'server7'}\n",
      "\n",
      "kafka-1\n",
      "{'state': 'Running', 'server': 'server5'}\n",
      "\n",
      "kafka-2\n",
      "{'state': 'Running', 'server': 'server6'}\n",
      "\n",
      "kafka-3\n",
      "{'state': 'Running', 'server': 'server4'}\n",
      "\n",
      "kafka-4\n",
      "{'state': 'Running', 'server': 'server3'}\n",
      "\n",
      "kafka-5\n",
      "{'state': 'Running', 'server': 'server2'}\n",
      "\n",
      "kafka-6\n",
      "{'state': 'Running', 'server': 'server1'}\n",
      "\n",
      "producer-2qmxp\n",
      "{'state': 'Running', 'server': 'server4'}\n",
      "\n",
      "producer-4kjs5\n",
      "{'state': 'Running', 'server': 'server7'}\n",
      "\n",
      "producer-7pgq6\n",
      "{'state': 'Running', 'server': 'server6'}\n",
      "\n",
      "producer-kbw7n\n",
      "{'state': 'Running', 'server': 'server5'}\n",
      "\n",
      "producer-pbn94\n",
      "{'state': 'Running', 'server': 'server1'}\n",
      "\n",
      "producer-v8fr5\n",
      "{'state': 'Running', 'server': 'server2'}\n",
      "\n",
      "producer-xz72f\n",
      "{'state': 'Running', 'server': 'server3'}\n",
      "\n",
      "zoo-0\n",
      "{'state': 'Running', 'server': 'server1'}\n",
      "\n",
      "zoo-1\n",
      "{'state': 'Running', 'server': 'server6'}\n",
      "\n",
      "zoo-2\n",
      "{'state': 'Running', 'server': 'server4'}\n",
      "\n",
      "====================================\n",
      "====================================\n",
      "====================================\n",
      "====================================\n",
      "====================================\n"
     ]
    }
   ],
   "source": [
    "def addToData(data, topic, current, seconds):\n",
    "    #empty\n",
    "    if not current:\n",
    "        return data\n",
    "    \n",
    "    if topic in data:\n",
    "        cd = data[topic]\n",
    "        if cd[\"data\"][-1] != current:\n",
    "            cd[\"data\"].append(current)\n",
    "            cd[\"time\"].append(seconds)\n",
    "    else:\n",
    "        data[topic] = {\n",
    "            \"data\" : [current],\n",
    "            \"time\" : [seconds]\n",
    "        }\n",
    "    \n",
    "    return data\n",
    "\n",
    "def showDiff(data):\n",
    "    for t in data:\n",
    "        print(t)\n",
    "        print(data[t][\"data\"][0]) \n",
    "        if len(data[t][\"data\"]) > 1:\n",
    "            ld = data[t][\"data\"][0]\n",
    "            for x in range(1, len(data[t][\"data\"])):\n",
    "                cd = data[t][\"data\"][x]                \n",
    "                print(\"\\x1b[31m\" + str(list(dictdiffer.diff(ld,cd))) + \"\\x1b[0m\")\n",
    "                print(\"Minute %.1f\" %(data[t][\"time\"][x] / 60))\n",
    "                ld = cd\n",
    "        print()\n",
    "        \n",
    "def replaceKafkaWithNode(c, pods, second):\n",
    "    result = []\n",
    "    for x in c:\n",
    "        d = pods[\"kafka-\" + str(x)]\n",
    "        index = 0\n",
    "        for y in range(len(d[\"time\"])):\n",
    "            if(d[\"time\"][y] > second):\n",
    "                break\n",
    "            index = y\n",
    "        result.append(d[\"data\"][index][\"server\"])\n",
    "    return set(result)\n",
    "\n",
    "def extractResponsibilities(lines):\n",
    "    \n",
    "    trial = 0\n",
    "    seconds = 0\n",
    "    topic = None\n",
    "    partitions = None\n",
    "    kafka = True\n",
    "    \n",
    "    data = {}\n",
    "    pods = {}\n",
    "    \n",
    "    current = {}\n",
    "    \n",
    "    for line in lines:\n",
    "        split = list(filter(lambda x : len(x) > 0, line.split(\" \")))\n",
    "        if(line.startswith(\"Trial \")):\n",
    "            kafka = True\n",
    "            trial = int(split[1])\n",
    "            seconds = int(split[3])\n",
    "            current = {}\n",
    "        elif(line.startswith(\"  topic \\\"\")):\n",
    "            data = addToData(data, topic, current, seconds)\n",
    "            topic = split[1][1:-1]\n",
    "            partitions = int(split[3])\n",
    "            current = {}\n",
    "        elif(line.startswith(\"    partition \")):\n",
    "            partition = int(split[1][:-1]) \n",
    "            leader =  int(split[3][:-1]) \n",
    "            replicas = set([int(x) for x in split[5][:-1].split(\",\")])\n",
    "            isrs = set([int(x) for x in split[7][:-1].split(\",\")])\n",
    "            current[partition] = {\n",
    "                \"leader\" : leader,\n",
    "                \"replicas\" : replicas,\n",
    "                \"isrs\" : isrs\n",
    "            }\n",
    "        elif(line.startswith(\"pod \\\"debug\")):\n",
    "            data = addToData(data, topic, current, seconds)\n",
    "        elif(line.startswith(\"NAME\")):\n",
    "            kafka = False\n",
    "        elif(not kafka):\n",
    "            if(line.startswith((\"analyst\", \"filter\", \"kafka\", \"producer\", \"zoo\"))):\n",
    "                pod = split[0]\n",
    "                state = split[1]\n",
    "                server = split[2][:-1]\n",
    "                \n",
    "                current = {\n",
    "                    \"state\" : state,\n",
    "                    \"server\": server\n",
    "                }\n",
    "                \n",
    "                if pod in pods:\n",
    "                    if pods[pod][\"data\"][-1] != current:\n",
    "                        pods[pod][\"data\"].append(current)\n",
    "                        pods[pod][\"time\"].append(seconds)\n",
    "                else:\n",
    "                    pods[pod] = {\n",
    "                        \"data\" : [current],\n",
    "                        \"time\" : [seconds]\n",
    "                    }\n",
    "                \n",
    "            else:\n",
    "                print(\"Error\", line)\n",
    "            \n",
    "    for t in data:\n",
    "        for i in range(len(data[t][\"data\"])):\n",
    "            c = data[t][\"data\"][i]\n",
    "            time = data[t][\"time\"][i]\n",
    "            for partition in c:\n",
    "                \n",
    "                c[partition][\"replicas\"] = replaceKafkaWithNode(c[partition][\"replicas\"], pods, time)\n",
    "                c[partition][\"isrs\"] = replaceKafkaWithNode(c[partition][\"isrs\"], pods, time)\n",
    "                c[partition][\"leader\"] = list(replaceKafkaWithNode([c[partition][\"leader\"]], pods, 0))[0]\n",
    "               \n",
    "    showDiff(data)\n",
    "    \n",
    "    for i in range(5):\n",
    "        print(\"====================================\")\n",
    "        \n",
    "    showDiff(pods)\n",
    "    \n",
    "    for i in range(5):\n",
    "        print(\"====================================\")\n",
    "\n",
    "runs = os.listdir(path)\n",
    "for run in runs:    \n",
    "    print(\"\\x1b[34mRUN:\" + str(run) + \"\\x1b[0m\")\n",
    "    p = path + run + os.path.sep + \"logs\" + os.path.sep + \"responsibilities.log\"\n",
    "    file = open(p, 'r') \n",
    "    lines = file.readlines()\n",
    "    extractResponsibilities(lines)"
   ]
  },
  {
   "cell_type": "code",
   "execution_count": null,
   "metadata": {},
   "outputs": [],
   "source": []
  },
  {
   "cell_type": "code",
   "execution_count": null,
   "metadata": {},
   "outputs": [],
   "source": []
  }
 ],
 "metadata": {
  "kernelspec": {
   "display_name": "Python 3",
   "language": "python",
   "name": "python3"
  },
  "language_info": {
   "codemirror_mode": {
    "name": "ipython",
    "version": 3
   },
   "file_extension": ".py",
   "mimetype": "text/x-python",
   "name": "python",
   "nbconvert_exporter": "python",
   "pygments_lexer": "ipython3",
   "version": "3.8.3"
  }
 },
 "nbformat": 4,
 "nbformat_minor": 4
}
